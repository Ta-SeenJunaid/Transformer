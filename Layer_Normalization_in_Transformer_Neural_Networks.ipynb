{
  "nbformat": 4,
  "nbformat_minor": 0,
  "metadata": {
    "colab": {
      "provenance": []
    },
    "kernelspec": {
      "name": "python3",
      "display_name": "Python 3"
    },
    "language_info": {
      "name": "python"
    }
  },
  "cells": [
    {
      "cell_type": "code",
      "execution_count": 1,
      "metadata": {
        "id": "lgfU8x1QMN29"
      },
      "outputs": [],
      "source": [
        "import torch\n",
        "from torch import nn"
      ]
    },
    {
      "cell_type": "code",
      "source": [
        "inputs = torch.Tensor([[[0.2, 0.1, 0.3], [0.5, 0.1, 0.1]]])\n",
        "B, S, E = inputs.size()\n",
        "inputs = inputs.reshape(S, B, E)\n",
        "inputs.size()"
      ],
      "metadata": {
        "colab": {
          "base_uri": "https://localhost:8080/"
        },
        "id": "n-q-LyebMs_P",
        "outputId": "d4b5694b-0a36-4e93-95e9-26586611bfc3"
      },
      "execution_count": 4,
      "outputs": [
        {
          "output_type": "execute_result",
          "data": {
            "text/plain": [
              "torch.Size([2, 1, 3])"
            ]
          },
          "metadata": {},
          "execution_count": 4
        }
      ]
    },
    {
      "cell_type": "code",
      "source": [
        "parameter_shape = inputs.size()[-2:]\n",
        "gamma = nn.Parameter(torch.ones(parameter_shape))\n",
        "beta = nn.Parameter(torch.zeros(parameter_shape))"
      ],
      "metadata": {
        "id": "-7FXkTngNzpI"
      },
      "execution_count": 5,
      "outputs": []
    },
    {
      "cell_type": "code",
      "source": [
        "gamma.size(), beta.size()"
      ],
      "metadata": {
        "colab": {
          "base_uri": "https://localhost:8080/"
        },
        "id": "4DKHVFF8Or7K",
        "outputId": "dc10cdeb-3f01-4441-e91e-d634f1a51757"
      },
      "execution_count": 6,
      "outputs": [
        {
          "output_type": "execute_result",
          "data": {
            "text/plain": [
              "(torch.Size([1, 3]), torch.Size([1, 3]))"
            ]
          },
          "metadata": {},
          "execution_count": 6
        }
      ]
    },
    {
      "cell_type": "code",
      "source": [
        "dims = [-(i + 1) for i in range(len(parameter_shape))]"
      ],
      "metadata": {
        "id": "J2dVrkwpO8Ok"
      },
      "execution_count": 7,
      "outputs": []
    },
    {
      "cell_type": "code",
      "source": [
        "dims"
      ],
      "metadata": {
        "colab": {
          "base_uri": "https://localhost:8080/"
        },
        "id": "QvxJm5ONPJp9",
        "outputId": "b568f482-a979-41ad-8f67-9a5dba0b6cb5"
      },
      "execution_count": 8,
      "outputs": [
        {
          "output_type": "execute_result",
          "data": {
            "text/plain": [
              "[-1, -2]"
            ]
          },
          "metadata": {},
          "execution_count": 8
        }
      ]
    },
    {
      "cell_type": "code",
      "source": [
        "mean = inputs.mean(dim=dims, keepdim=True)\n",
        "mean.size()"
      ],
      "metadata": {
        "colab": {
          "base_uri": "https://localhost:8080/"
        },
        "id": "mBADyxu3PNuF",
        "outputId": "e2d7ca4e-984d-4c2f-eecc-d404ad8f3f82"
      },
      "execution_count": 9,
      "outputs": [
        {
          "output_type": "execute_result",
          "data": {
            "text/plain": [
              "torch.Size([2, 1, 1])"
            ]
          },
          "metadata": {},
          "execution_count": 9
        }
      ]
    },
    {
      "cell_type": "code",
      "source": [
        "mean"
      ],
      "metadata": {
        "colab": {
          "base_uri": "https://localhost:8080/"
        },
        "id": "jCjQYRzqQNQ2",
        "outputId": "918a07a1-1392-472d-a529-8ed8cf4b614a"
      },
      "execution_count": 10,
      "outputs": [
        {
          "output_type": "execute_result",
          "data": {
            "text/plain": [
              "tensor([[[0.2000]],\n",
              "\n",
              "        [[0.2333]]])"
            ]
          },
          "metadata": {},
          "execution_count": 10
        }
      ]
    },
    {
      "cell_type": "code",
      "source": [
        "var = ((inputs - mean) ** 2).mean(dim=dims, keepdim=True)\n",
        "epsilon = 1e-5\n",
        "std = (var + epsilon).sqrt()\n",
        "std"
      ],
      "metadata": {
        "colab": {
          "base_uri": "https://localhost:8080/"
        },
        "id": "igPhKPAuQv5m",
        "outputId": "3dadfb85-222e-47c4-951f-e70d41f988a9"
      },
      "execution_count": 11,
      "outputs": [
        {
          "output_type": "execute_result",
          "data": {
            "text/plain": [
              "tensor([[[0.0817]],\n",
              "\n",
              "        [[0.1886]]])"
            ]
          },
          "metadata": {},
          "execution_count": 11
        }
      ]
    },
    {
      "cell_type": "code",
      "source": [
        "y = (inputs - mean) / std\n",
        "y"
      ],
      "metadata": {
        "colab": {
          "base_uri": "https://localhost:8080/"
        },
        "id": "_E_WV31nRSe1",
        "outputId": "c9318c8c-5fc0-4cc0-f7ab-9964c1edb4e0"
      },
      "execution_count": 12,
      "outputs": [
        {
          "output_type": "execute_result",
          "data": {
            "text/plain": [
              "tensor([[[ 0.0000, -1.2238,  1.2238]],\n",
              "\n",
              "        [[ 1.4140, -0.7070, -0.7070]]])"
            ]
          },
          "metadata": {},
          "execution_count": 12
        }
      ]
    },
    {
      "cell_type": "code",
      "source": [
        "out = gamma * y + beta"
      ],
      "metadata": {
        "id": "s5nCDS2QRiA4"
      },
      "execution_count": 13,
      "outputs": []
    },
    {
      "cell_type": "code",
      "source": [
        "out"
      ],
      "metadata": {
        "colab": {
          "base_uri": "https://localhost:8080/"
        },
        "id": "IQNOjwGhRoje",
        "outputId": "463a53c2-b86e-4df1-8839-9fd7db0f887c"
      },
      "execution_count": 14,
      "outputs": [
        {
          "output_type": "execute_result",
          "data": {
            "text/plain": [
              "tensor([[[ 0.0000, -1.2238,  1.2238]],\n",
              "\n",
              "        [[ 1.4140, -0.7070, -0.7070]]], grad_fn=<AddBackward0>)"
            ]
          },
          "metadata": {},
          "execution_count": 14
        }
      ]
    },
    {
      "cell_type": "code",
      "source": [
        "import torch\n",
        "from torch import nn\n",
        "\n",
        "class LayerNormalization():\n",
        "  def __init__(self, parameter_shape, eps=1e-5) -> None:\n",
        "    self.parameter_shape = parameter_shape\n",
        "    self.eps = eps\n",
        "    self.gamma = nn.Parameter(torch.ones(parameter_shape))\n",
        "    self.beta = nn.Parameter(torch.zeros(parameter_shape))\n",
        "\n",
        "  def forward(self, input):\n",
        "    dims = [-(i+1) for i in range(len(self.parameter_shape))]\n",
        "    print(f\"Mean \\n ({mean.size()}): \\n {mean}\")\n",
        "    var = ((inputs - mean) ** 2).mean(dim=dims, keepdim=True)\n",
        "    std = (var + self.eps).sqrt()\n",
        "    print(f\"Standard Deviation \\n ({std.size()}): \\n {std}\")\n",
        "    y = (inputs - mean) / std\n",
        "    print(f\"y \\n ({y.size()}) = \\n {y}\")\n",
        "    out = self.gamma * y  + self.beta\n",
        "    print(f\"out \\n ({out.size()}) = \\n {out}\")\n",
        "    return out"
      ],
      "metadata": {
        "id": "EO3mviCrRq0O"
      },
      "execution_count": 16,
      "outputs": []
    },
    {
      "cell_type": "code",
      "source": [
        "batch_size = 3\n",
        "sentence_length = 5\n",
        "embedding_dim = 8 \n",
        "inputs = torch.randn(sentence_length, batch_size, embedding_dim)\n",
        "\n",
        "print(f\"input \\n ({inputs.size()}) = \\n {inputs}\")\n",
        "     "
      ],
      "metadata": {
        "colab": {
          "base_uri": "https://localhost:8080/"
        },
        "id": "dJcaTBLAX0VV",
        "outputId": "582d9241-942c-4dce-b7a0-9c3c2246afd5"
      },
      "execution_count": 18,
      "outputs": [
        {
          "output_type": "stream",
          "name": "stdout",
          "text": [
            "input \n",
            " (torch.Size([5, 3, 8])) = \n",
            " tensor([[[-1.5279,  1.1531, -0.6580,  0.7171,  1.9809,  1.6145,  1.8791,\n",
            "           0.6054],\n",
            "         [-1.8898, -0.1667, -0.0573, -0.3673, -1.3410, -0.0506, -1.4536,\n",
            "           1.1558],\n",
            "         [ 1.1351,  1.1780,  0.3772,  1.3130, -0.8884, -0.4953,  0.6955,\n",
            "          -1.8598]],\n",
            "\n",
            "        [[-0.7588,  0.0780,  0.6861, -0.3111,  1.2979, -1.1623, -1.4031,\n",
            "          -1.8136],\n",
            "         [ 0.9753,  0.8771, -0.0466,  0.0878, -0.1609,  0.9619,  0.1215,\n",
            "          -1.0098],\n",
            "         [ 0.8472,  0.0972, -0.2107,  0.7850, -0.2391,  0.1192, -1.3483,\n",
            "          -0.4069]],\n",
            "\n",
            "        [[-0.6441, -1.2946,  1.2806, -2.5657,  0.3272,  0.9019,  0.0767,\n",
            "           0.8301],\n",
            "         [ 0.1343,  0.4219,  1.7110, -1.1128, -0.0116,  0.1387,  0.1799,\n",
            "           0.2853],\n",
            "         [-0.7093,  0.6286,  1.2543,  0.9525, -0.7191, -0.3856,  1.1232,\n",
            "           0.2345]],\n",
            "\n",
            "        [[-0.4925, -0.0510,  0.4828, -0.0206,  2.8138,  0.0149,  0.9851,\n",
            "          -0.6275],\n",
            "         [ 0.8363,  0.1461, -0.1048, -0.1903,  1.1101,  2.2133, -0.8662,\n",
            "           0.8012],\n",
            "         [-0.4071,  0.4430, -0.4372,  0.3832, -0.2863, -0.5912, -0.2070,\n",
            "           0.7892]],\n",
            "\n",
            "        [[ 0.5956, -1.3089,  1.3524,  0.4693,  0.0796, -1.6303,  0.3881,\n",
            "           0.1447],\n",
            "         [ 0.9889, -1.6815, -0.4753, -0.1686, -0.5917, -0.4828, -0.8856,\n",
            "          -0.8820],\n",
            "         [-0.9414, -0.0746,  0.8832,  0.6323,  2.0928,  1.5119, -0.3216,\n",
            "           0.1038]]])\n"
          ]
        }
      ]
    }
  ]
}